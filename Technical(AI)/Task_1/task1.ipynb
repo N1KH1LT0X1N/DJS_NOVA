{
 "cells": [
  {
   "cell_type": "markdown",
   "id": "3a6321d2",
   "metadata": {},
   "source": [
    "## EDA"
   ]
  },
  {
   "cell_type": "code",
   "execution_count": 2,
   "id": "58109a29",
   "metadata": {},
   "outputs": [],
   "source": [
    "import io\n",
    "import re\n",
    "import pandas as pd\n",
    "import numpy as np\n",
    "import matplotlib.pyplot as plt\n",
    "import seaborn as sns\n",
    "import warnings\n",
    "import plotly.express as px\n",
    "warnings.filterwarnings('ignore')\n",
    "\n",
    "%matplotlib inline\n",
    "\n",
    "import polars as pl\n",
    "from skimpy import skim\n",
    "from summarytools import dfSummary\n",
    "#summarytools doesnt work with polars library, it works with pandas tho\n",
    "\n",
    "#%load_ext cudf.pandas\n",
    "#supercharges workflow with GPU acceleration using cudf.pandas\n",
    "#Im having pip install issues with cudf so commenting it out for now"
   ]
  },
  {
   "cell_type": "code",
   "execution_count": 6,
   "id": "1e7a1176",
   "metadata": {},
   "outputs": [
    {
     "data": {
      "application/vnd.microsoft.datawrangler.viewer.v0+json": {
       "columns": [
        {
         "name": "index",
         "rawType": "int64",
         "type": "integer"
        },
        {
         "name": "obj_ID",
         "rawType": "float64",
         "type": "float"
        },
        {
         "name": "alpha",
         "rawType": "float64",
         "type": "float"
        },
        {
         "name": "delta",
         "rawType": "float64",
         "type": "float"
        },
        {
         "name": "u",
         "rawType": "float64",
         "type": "float"
        },
        {
         "name": "g",
         "rawType": "float64",
         "type": "float"
        },
        {
         "name": "r",
         "rawType": "float64",
         "type": "float"
        },
        {
         "name": "i",
         "rawType": "float64",
         "type": "float"
        },
        {
         "name": "z",
         "rawType": "float64",
         "type": "float"
        },
        {
         "name": "run_ID",
         "rawType": "float64",
         "type": "float"
        },
        {
         "name": "rerun_ID",
         "rawType": "float64",
         "type": "float"
        },
        {
         "name": "cam_col",
         "rawType": "float64",
         "type": "float"
        },
        {
         "name": "field_ID",
         "rawType": "float64",
         "type": "float"
        },
        {
         "name": "spec_obj_ID",
         "rawType": "float64",
         "type": "float"
        },
        {
         "name": "class",
         "rawType": "object",
         "type": "string"
        },
        {
         "name": "redshift",
         "rawType": "float64",
         "type": "float"
        },
        {
         "name": "plate",
         "rawType": "float64",
         "type": "float"
        },
        {
         "name": "MJD",
         "rawType": "int64",
         "type": "integer"
        },
        {
         "name": "fiber_ID",
         "rawType": "float64",
         "type": "float"
        }
       ],
       "ref": "87858e0b-4fcf-4b37-975b-5f5e364f5770",
       "rows": [
        [
         "0",
         "1.2376609613277432e+18",
         "135.6891066036",
         "32.4946318397087",
         "23.87882",
         "22.2753",
         "20.39501",
         "19.16573",
         "18.79371",
         "3606.0",
         "301.0",
         "2.0",
         "79.0",
         "6.543777369295182e+18",
         "GALAXY",
         "0.6347936",
         "5812.0",
         "56354",
         "171.0"
        ],
        [
         "1",
         "1.237664879951151e+18",
         "144.826100550256",
         "31.2741848944939",
         "24.77759",
         "22.83188",
         "22.58444",
         "21.16812",
         "21.61427",
         "4518.0",
         "301.0",
         null,
         "119.0",
         "1.1760142036707334e+19",
         "GALAXY",
         "0.779136",
         null,
         "58158",
         "427.0"
        ],
        [
         "2",
         "1.2376609613304302e+18",
         "142.188789562506",
         "35.5824441819976",
         "25.26307",
         "22.66389",
         "20.60976",
         "19.34857",
         "18.94827",
         "3606.0",
         "301.0",
         null,
         "120.0",
         "5.152200256025549e+18",
         "GALAXY",
         "0.6441945",
         null,
         "55592",
         "299.0"
        ],
        [
         "3",
         "1.237663478724298e+18",
         "338.741037753146",
         "-0.402827574587482",
         "22.13682",
         "23.77656",
         "21.61162",
         "20.50454",
         "19.2501",
         "4192.0",
         "301.0",
         "3.0",
         "214.0",
         "1.030107141295442e+19",
         "GALAXY",
         "0.9323456",
         "9149.0",
         "58039",
         "775.0"
        ],
        [
         "4",
         "1.237680272041378e+18",
         "345.282593210935",
         "21.1838656010284",
         "19.43718",
         "17.58028",
         "16.49747",
         "15.97711",
         "15.54461",
         "8102.0",
         "301.0",
         "3.0",
         "137.0",
         "6.891864880783317e+18",
         "GALAXY",
         "0.1161227",
         "6121.0",
         "56187",
         "842.0"
        ]
       ],
       "shape": {
        "columns": 18,
        "rows": 5
       }
      },
      "text/html": [
       "<div>\n",
       "<style scoped>\n",
       "    .dataframe tbody tr th:only-of-type {\n",
       "        vertical-align: middle;\n",
       "    }\n",
       "\n",
       "    .dataframe tbody tr th {\n",
       "        vertical-align: top;\n",
       "    }\n",
       "\n",
       "    .dataframe thead th {\n",
       "        text-align: right;\n",
       "    }\n",
       "</style>\n",
       "<table border=\"1\" class=\"dataframe\">\n",
       "  <thead>\n",
       "    <tr style=\"text-align: right;\">\n",
       "      <th></th>\n",
       "      <th>obj_ID</th>\n",
       "      <th>alpha</th>\n",
       "      <th>delta</th>\n",
       "      <th>u</th>\n",
       "      <th>g</th>\n",
       "      <th>r</th>\n",
       "      <th>i</th>\n",
       "      <th>z</th>\n",
       "      <th>run_ID</th>\n",
       "      <th>rerun_ID</th>\n",
       "      <th>cam_col</th>\n",
       "      <th>field_ID</th>\n",
       "      <th>spec_obj_ID</th>\n",
       "      <th>class</th>\n",
       "      <th>redshift</th>\n",
       "      <th>plate</th>\n",
       "      <th>MJD</th>\n",
       "      <th>fiber_ID</th>\n",
       "    </tr>\n",
       "  </thead>\n",
       "  <tbody>\n",
       "    <tr>\n",
       "      <th>0</th>\n",
       "      <td>1.237661e+18</td>\n",
       "      <td>135.689107</td>\n",
       "      <td>32.494632</td>\n",
       "      <td>23.87882</td>\n",
       "      <td>22.27530</td>\n",
       "      <td>20.39501</td>\n",
       "      <td>19.16573</td>\n",
       "      <td>18.79371</td>\n",
       "      <td>3606.0</td>\n",
       "      <td>301.0</td>\n",
       "      <td>2.0</td>\n",
       "      <td>79.0</td>\n",
       "      <td>6.543777e+18</td>\n",
       "      <td>GALAXY</td>\n",
       "      <td>0.634794</td>\n",
       "      <td>5812.0</td>\n",
       "      <td>56354</td>\n",
       "      <td>171.0</td>\n",
       "    </tr>\n",
       "    <tr>\n",
       "      <th>1</th>\n",
       "      <td>1.237665e+18</td>\n",
       "      <td>144.826101</td>\n",
       "      <td>31.274185</td>\n",
       "      <td>24.77759</td>\n",
       "      <td>22.83188</td>\n",
       "      <td>22.58444</td>\n",
       "      <td>21.16812</td>\n",
       "      <td>21.61427</td>\n",
       "      <td>4518.0</td>\n",
       "      <td>301.0</td>\n",
       "      <td>NaN</td>\n",
       "      <td>119.0</td>\n",
       "      <td>1.176014e+19</td>\n",
       "      <td>GALAXY</td>\n",
       "      <td>0.779136</td>\n",
       "      <td>NaN</td>\n",
       "      <td>58158</td>\n",
       "      <td>427.0</td>\n",
       "    </tr>\n",
       "    <tr>\n",
       "      <th>2</th>\n",
       "      <td>1.237661e+18</td>\n",
       "      <td>142.188790</td>\n",
       "      <td>35.582444</td>\n",
       "      <td>25.26307</td>\n",
       "      <td>22.66389</td>\n",
       "      <td>20.60976</td>\n",
       "      <td>19.34857</td>\n",
       "      <td>18.94827</td>\n",
       "      <td>3606.0</td>\n",
       "      <td>301.0</td>\n",
       "      <td>NaN</td>\n",
       "      <td>120.0</td>\n",
       "      <td>5.152200e+18</td>\n",
       "      <td>GALAXY</td>\n",
       "      <td>0.644195</td>\n",
       "      <td>NaN</td>\n",
       "      <td>55592</td>\n",
       "      <td>299.0</td>\n",
       "    </tr>\n",
       "    <tr>\n",
       "      <th>3</th>\n",
       "      <td>1.237663e+18</td>\n",
       "      <td>338.741038</td>\n",
       "      <td>-0.402828</td>\n",
       "      <td>22.13682</td>\n",
       "      <td>23.77656</td>\n",
       "      <td>21.61162</td>\n",
       "      <td>20.50454</td>\n",
       "      <td>19.25010</td>\n",
       "      <td>4192.0</td>\n",
       "      <td>301.0</td>\n",
       "      <td>3.0</td>\n",
       "      <td>214.0</td>\n",
       "      <td>1.030107e+19</td>\n",
       "      <td>GALAXY</td>\n",
       "      <td>0.932346</td>\n",
       "      <td>9149.0</td>\n",
       "      <td>58039</td>\n",
       "      <td>775.0</td>\n",
       "    </tr>\n",
       "    <tr>\n",
       "      <th>4</th>\n",
       "      <td>1.237680e+18</td>\n",
       "      <td>345.282593</td>\n",
       "      <td>21.183866</td>\n",
       "      <td>19.43718</td>\n",
       "      <td>17.58028</td>\n",
       "      <td>16.49747</td>\n",
       "      <td>15.97711</td>\n",
       "      <td>15.54461</td>\n",
       "      <td>8102.0</td>\n",
       "      <td>301.0</td>\n",
       "      <td>3.0</td>\n",
       "      <td>137.0</td>\n",
       "      <td>6.891865e+18</td>\n",
       "      <td>GALAXY</td>\n",
       "      <td>0.116123</td>\n",
       "      <td>6121.0</td>\n",
       "      <td>56187</td>\n",
       "      <td>842.0</td>\n",
       "    </tr>\n",
       "  </tbody>\n",
       "</table>\n",
       "</div>"
      ],
      "text/plain": [
       "         obj_ID       alpha      delta         u         g         r  \\\n",
       "0  1.237661e+18  135.689107  32.494632  23.87882  22.27530  20.39501   \n",
       "1  1.237665e+18  144.826101  31.274185  24.77759  22.83188  22.58444   \n",
       "2  1.237661e+18  142.188790  35.582444  25.26307  22.66389  20.60976   \n",
       "3  1.237663e+18  338.741038  -0.402828  22.13682  23.77656  21.61162   \n",
       "4  1.237680e+18  345.282593  21.183866  19.43718  17.58028  16.49747   \n",
       "\n",
       "          i         z  run_ID  rerun_ID  cam_col  field_ID   spec_obj_ID  \\\n",
       "0  19.16573  18.79371  3606.0     301.0      2.0      79.0  6.543777e+18   \n",
       "1  21.16812  21.61427  4518.0     301.0      NaN     119.0  1.176014e+19   \n",
       "2  19.34857  18.94827  3606.0     301.0      NaN     120.0  5.152200e+18   \n",
       "3  20.50454  19.25010  4192.0     301.0      3.0     214.0  1.030107e+19   \n",
       "4  15.97711  15.54461  8102.0     301.0      3.0     137.0  6.891865e+18   \n",
       "\n",
       "    class  redshift   plate    MJD  fiber_ID  \n",
       "0  GALAXY  0.634794  5812.0  56354     171.0  \n",
       "1  GALAXY  0.779136     NaN  58158     427.0  \n",
       "2  GALAXY  0.644195     NaN  55592     299.0  \n",
       "3  GALAXY  0.932346  9149.0  58039     775.0  \n",
       "4  GALAXY  0.116123  6121.0  56187     842.0  "
      ]
     },
     "execution_count": 6,
     "metadata": {},
     "output_type": "execute_result"
    }
   ],
   "source": [
    "df = pd.read_csv('Task 1.csv')\n",
    "df.head(5)"
   ]
  },
  {
   "cell_type": "code",
   "execution_count": 7,
   "id": "7053c10c",
   "metadata": {},
   "outputs": [
    {
     "name": "stdout",
     "output_type": "stream",
     "text": [
      "<class 'pandas.core.frame.DataFrame'>\n",
      "RangeIndex: 100000 entries, 0 to 99999\n",
      "Data columns (total 18 columns):\n",
      " #   Column       Non-Null Count   Dtype  \n",
      "---  ------       --------------   -----  \n",
      " 0   obj_ID       100000 non-null  float64\n",
      " 1   alpha        97987 non-null   float64\n",
      " 2   delta        90750 non-null   float64\n",
      " 3   u            99965 non-null   float64\n",
      " 4   g            99785 non-null   float64\n",
      " 5   r            98270 non-null   float64\n",
      " 6   i            99874 non-null   float64\n",
      " 7   z            99112 non-null   float64\n",
      " 8   run_ID       99999 non-null   float64\n",
      " 9   rerun_ID     99997 non-null   float64\n",
      " 10  cam_col      74526 non-null   float64\n",
      " 11  field_ID     99992 non-null   float64\n",
      " 12  spec_obj_ID  99998 non-null   float64\n",
      " 13  class        99996 non-null   object \n",
      " 14  redshift     99984 non-null   float64\n",
      " 15  plate        87244 non-null   float64\n",
      " 16  MJD          100000 non-null  int64  \n",
      " 17  fiber_ID     99995 non-null   float64\n",
      "dtypes: float64(16), int64(1), object(1)\n",
      "memory usage: 13.7+ MB\n"
     ]
    }
   ],
   "source": [
    "df.info()"
   ]
  },
  {
   "cell_type": "code",
   "execution_count": 9,
   "id": "38b7dd8c",
   "metadata": {},
   "outputs": [
    {
     "data": {
      "text/plain": [
       "(100000, 18)"
      ]
     },
     "execution_count": 9,
     "metadata": {},
     "output_type": "execute_result"
    }
   ],
   "source": [
    "df.shape"
   ]
  },
  {
   "cell_type": "code",
   "execution_count": 10,
   "id": "8e94f55d",
   "metadata": {},
   "outputs": [
    {
     "data": {
      "application/vnd.microsoft.datawrangler.viewer.v0+json": {
       "columns": [
        {
         "name": "index",
         "rawType": "object",
         "type": "string"
        },
        {
         "name": "0",
         "rawType": "object",
         "type": "unknown"
        }
       ],
       "ref": "f3cb9094-81d4-4772-b59e-4fd0fac0ef2f",
       "rows": [
        [
         "obj_ID",
         "float64"
        ],
        [
         "alpha",
         "float64"
        ],
        [
         "delta",
         "float64"
        ],
        [
         "u",
         "float64"
        ],
        [
         "g",
         "float64"
        ],
        [
         "r",
         "float64"
        ],
        [
         "i",
         "float64"
        ],
        [
         "z",
         "float64"
        ],
        [
         "run_ID",
         "float64"
        ],
        [
         "rerun_ID",
         "float64"
        ],
        [
         "cam_col",
         "float64"
        ],
        [
         "field_ID",
         "float64"
        ],
        [
         "spec_obj_ID",
         "float64"
        ],
        [
         "class",
         "object"
        ],
        [
         "redshift",
         "float64"
        ],
        [
         "plate",
         "float64"
        ],
        [
         "MJD",
         "int64"
        ],
        [
         "fiber_ID",
         "float64"
        ]
       ],
       "shape": {
        "columns": 1,
        "rows": 18
       }
      },
      "text/plain": [
       "obj_ID         float64\n",
       "alpha          float64\n",
       "delta          float64\n",
       "u              float64\n",
       "g              float64\n",
       "r              float64\n",
       "i              float64\n",
       "z              float64\n",
       "run_ID         float64\n",
       "rerun_ID       float64\n",
       "cam_col        float64\n",
       "field_ID       float64\n",
       "spec_obj_ID    float64\n",
       "class           object\n",
       "redshift       float64\n",
       "plate          float64\n",
       "MJD              int64\n",
       "fiber_ID       float64\n",
       "dtype: object"
      ]
     },
     "execution_count": 10,
     "metadata": {},
     "output_type": "execute_result"
    }
   ],
   "source": [
    "df.dtypes"
   ]
  },
  {
   "cell_type": "code",
   "execution_count": 13,
   "id": "5bce7988",
   "metadata": {},
   "outputs": [
    {
     "data": {
      "application/vnd.microsoft.datawrangler.viewer.v0+json": {
       "columns": [
        {
         "name": "index",
         "rawType": "object",
         "type": "string"
        },
        {
         "name": "obj_ID",
         "rawType": "float64",
         "type": "float"
        },
        {
         "name": "alpha",
         "rawType": "float64",
         "type": "float"
        },
        {
         "name": "delta",
         "rawType": "float64",
         "type": "float"
        },
        {
         "name": "u",
         "rawType": "float64",
         "type": "float"
        },
        {
         "name": "g",
         "rawType": "float64",
         "type": "float"
        },
        {
         "name": "r",
         "rawType": "float64",
         "type": "float"
        },
        {
         "name": "i",
         "rawType": "float64",
         "type": "float"
        },
        {
         "name": "z",
         "rawType": "float64",
         "type": "float"
        },
        {
         "name": "run_ID",
         "rawType": "float64",
         "type": "float"
        },
        {
         "name": "rerun_ID",
         "rawType": "float64",
         "type": "float"
        },
        {
         "name": "cam_col",
         "rawType": "float64",
         "type": "float"
        },
        {
         "name": "field_ID",
         "rawType": "float64",
         "type": "float"
        },
        {
         "name": "spec_obj_ID",
         "rawType": "float64",
         "type": "float"
        },
        {
         "name": "redshift",
         "rawType": "float64",
         "type": "float"
        },
        {
         "name": "plate",
         "rawType": "float64",
         "type": "float"
        },
        {
         "name": "MJD",
         "rawType": "float64",
         "type": "float"
        },
        {
         "name": "fiber_ID",
         "rawType": "float64",
         "type": "float"
        }
       ],
       "ref": "7208fbc4-c071-4d76-a958-614d48419b17",
       "rows": [
        [
         "count",
         "100000.0",
         "97987.0",
         "90750.0",
         "99965.0",
         "99785.0",
         "98270.0",
         "99874.0",
         "99112.0",
         "99999.0",
         "99997.0",
         "74526.0",
         "99992.0",
         "99998.0",
         "99984.0",
         "87244.0",
         "100000.0",
         "99995.0"
        ],
        [
         "mean",
         "1.2376647218149033e+18",
         "177.57261054901326",
         "24.11333783958073",
         "21.980389089581358",
         "20.53158500155334",
         "19.64532445242699",
         "19.08517852346957",
         "18.668292753884497",
         "4481.333693336934",
         "301.0",
         "3.512384939484207",
         "186.12058964717178",
         "5.783944269724008e+18",
         "0.5766736320861169",
         "5137.28263261657",
         "55588.6475",
         "449.30837541877094"
        ],
        [
         "std",
         "8438559894562.67",
         "96.50404860515803",
         "19.650086484651762",
         "31.77482124959447",
         "31.784317725430324",
         "1.8555719418353054",
         "1.7579367288869885",
         "31.86952163596226",
         "1964.7477566430246",
         "0.0",
         "1.5871509762508456",
         "149.00134913981267",
         "3.3240203820499763e+18",
         "0.7307367674771855",
         "2950.877918487018",
         "1808.4842328524269",
         "272.50312230588565"
        ],
        [
         "min",
         "1.23764594290439e+18",
         "0.0055278279239701",
         "-18.7853280771825",
         "-9999.0",
         "-9999.0",
         "9.82207",
         "9.469903",
         "-9999.0",
         "109.0",
         "301.0",
         "1.0",
         "11.0",
         "2.9951908938097664e+17",
         "-0.009970667",
         "266.0",
         "51608.0",
         "1.0"
        ],
        [
         "25%",
         "1.2376591611951194e+18",
         "127.47194284643899",
         "5.11938526538831",
         "20.3523",
         "18.96622",
         "18.133965",
         "17.7326075",
         "17.4617875",
         "3187.0",
         "301.0",
         "2.0",
         "82.0",
         "2.844139102595475e+18",
         "0.054502550000000004",
         "2527.0",
         "54234.0",
         "221.0"
        ],
        [
         "50%",
         "1.2376634631442929e+18",
         "180.802202779316",
         "23.5748162870626",
         "22.17913",
         "21.09969",
         "20.12575",
         "19.405385000000003",
         "19.004649999999998",
         "4188.0",
         "301.0",
         "4.0",
         "146.0",
         "5.614896604370983e+18",
         "0.42417325",
         "4983.0",
         "55868.5",
         "433.0"
        ],
        [
         "75%",
         "1.237668350286447e+18",
         "233.889947170748",
         "39.885515437710076",
         "23.6874",
         "22.12374",
         "21.0445225",
         "20.396652500000002",
         "19.9210825",
         "5326.0",
         "301.0",
         "5.0",
         "241.0",
         "8.332585696050305e+18",
         "0.704154325",
         "7403.0",
         "56777.0",
         "645.0"
        ],
        [
         "max",
         "1.2376805313563863e+18",
         "359.999809770956",
         "83.00051858898",
         "32.78139",
         "31.60224",
         "29.57186",
         "32.14147",
         "29.38374",
         "8162.0",
         "301.0",
         "6.0",
         "989.0",
         "1.4126940609093851e+19",
         "7.011245",
         "12547.0",
         "58932.0",
         "1000.0"
        ]
       ],
       "shape": {
        "columns": 17,
        "rows": 8
       }
      },
      "text/html": [
       "<div>\n",
       "<style scoped>\n",
       "    .dataframe tbody tr th:only-of-type {\n",
       "        vertical-align: middle;\n",
       "    }\n",
       "\n",
       "    .dataframe tbody tr th {\n",
       "        vertical-align: top;\n",
       "    }\n",
       "\n",
       "    .dataframe thead th {\n",
       "        text-align: right;\n",
       "    }\n",
       "</style>\n",
       "<table border=\"1\" class=\"dataframe\">\n",
       "  <thead>\n",
       "    <tr style=\"text-align: right;\">\n",
       "      <th></th>\n",
       "      <th>obj_ID</th>\n",
       "      <th>alpha</th>\n",
       "      <th>delta</th>\n",
       "      <th>u</th>\n",
       "      <th>g</th>\n",
       "      <th>r</th>\n",
       "      <th>i</th>\n",
       "      <th>z</th>\n",
       "      <th>run_ID</th>\n",
       "      <th>rerun_ID</th>\n",
       "      <th>cam_col</th>\n",
       "      <th>field_ID</th>\n",
       "      <th>spec_obj_ID</th>\n",
       "      <th>redshift</th>\n",
       "      <th>plate</th>\n",
       "      <th>MJD</th>\n",
       "      <th>fiber_ID</th>\n",
       "    </tr>\n",
       "  </thead>\n",
       "  <tbody>\n",
       "    <tr>\n",
       "      <th>count</th>\n",
       "      <td>1.000000e+05</td>\n",
       "      <td>97987.000000</td>\n",
       "      <td>90750.000000</td>\n",
       "      <td>99965.000000</td>\n",
       "      <td>99785.000000</td>\n",
       "      <td>98270.000000</td>\n",
       "      <td>99874.000000</td>\n",
       "      <td>99112.000000</td>\n",
       "      <td>99999.000000</td>\n",
       "      <td>99997.0</td>\n",
       "      <td>74526.000000</td>\n",
       "      <td>99992.000000</td>\n",
       "      <td>9.999800e+04</td>\n",
       "      <td>99984.000000</td>\n",
       "      <td>87244.000000</td>\n",
       "      <td>100000.000000</td>\n",
       "      <td>99995.000000</td>\n",
       "    </tr>\n",
       "    <tr>\n",
       "      <th>mean</th>\n",
       "      <td>1.237665e+18</td>\n",
       "      <td>177.572611</td>\n",
       "      <td>24.113338</td>\n",
       "      <td>21.980389</td>\n",
       "      <td>20.531585</td>\n",
       "      <td>19.645324</td>\n",
       "      <td>19.085179</td>\n",
       "      <td>18.668293</td>\n",
       "      <td>4481.333693</td>\n",
       "      <td>301.0</td>\n",
       "      <td>3.512385</td>\n",
       "      <td>186.120590</td>\n",
       "      <td>5.783944e+18</td>\n",
       "      <td>0.576674</td>\n",
       "      <td>5137.282633</td>\n",
       "      <td>55588.647500</td>\n",
       "      <td>449.308375</td>\n",
       "    </tr>\n",
       "    <tr>\n",
       "      <th>std</th>\n",
       "      <td>8.438560e+12</td>\n",
       "      <td>96.504049</td>\n",
       "      <td>19.650086</td>\n",
       "      <td>31.774821</td>\n",
       "      <td>31.784318</td>\n",
       "      <td>1.855572</td>\n",
       "      <td>1.757937</td>\n",
       "      <td>31.869522</td>\n",
       "      <td>1964.747757</td>\n",
       "      <td>0.0</td>\n",
       "      <td>1.587151</td>\n",
       "      <td>149.001349</td>\n",
       "      <td>3.324020e+18</td>\n",
       "      <td>0.730737</td>\n",
       "      <td>2950.877918</td>\n",
       "      <td>1808.484233</td>\n",
       "      <td>272.503122</td>\n",
       "    </tr>\n",
       "    <tr>\n",
       "      <th>min</th>\n",
       "      <td>1.237646e+18</td>\n",
       "      <td>0.005528</td>\n",
       "      <td>-18.785328</td>\n",
       "      <td>-9999.000000</td>\n",
       "      <td>-9999.000000</td>\n",
       "      <td>9.822070</td>\n",
       "      <td>9.469903</td>\n",
       "      <td>-9999.000000</td>\n",
       "      <td>109.000000</td>\n",
       "      <td>301.0</td>\n",
       "      <td>1.000000</td>\n",
       "      <td>11.000000</td>\n",
       "      <td>2.995191e+17</td>\n",
       "      <td>-0.009971</td>\n",
       "      <td>266.000000</td>\n",
       "      <td>51608.000000</td>\n",
       "      <td>1.000000</td>\n",
       "    </tr>\n",
       "    <tr>\n",
       "      <th>25%</th>\n",
       "      <td>1.237659e+18</td>\n",
       "      <td>127.471943</td>\n",
       "      <td>5.119385</td>\n",
       "      <td>20.352300</td>\n",
       "      <td>18.966220</td>\n",
       "      <td>18.133965</td>\n",
       "      <td>17.732608</td>\n",
       "      <td>17.461787</td>\n",
       "      <td>3187.000000</td>\n",
       "      <td>301.0</td>\n",
       "      <td>2.000000</td>\n",
       "      <td>82.000000</td>\n",
       "      <td>2.844139e+18</td>\n",
       "      <td>0.054503</td>\n",
       "      <td>2527.000000</td>\n",
       "      <td>54234.000000</td>\n",
       "      <td>221.000000</td>\n",
       "    </tr>\n",
       "    <tr>\n",
       "      <th>50%</th>\n",
       "      <td>1.237663e+18</td>\n",
       "      <td>180.802203</td>\n",
       "      <td>23.574816</td>\n",
       "      <td>22.179130</td>\n",
       "      <td>21.099690</td>\n",
       "      <td>20.125750</td>\n",
       "      <td>19.405385</td>\n",
       "      <td>19.004650</td>\n",
       "      <td>4188.000000</td>\n",
       "      <td>301.0</td>\n",
       "      <td>4.000000</td>\n",
       "      <td>146.000000</td>\n",
       "      <td>5.614897e+18</td>\n",
       "      <td>0.424173</td>\n",
       "      <td>4983.000000</td>\n",
       "      <td>55868.500000</td>\n",
       "      <td>433.000000</td>\n",
       "    </tr>\n",
       "    <tr>\n",
       "      <th>75%</th>\n",
       "      <td>1.237668e+18</td>\n",
       "      <td>233.889947</td>\n",
       "      <td>39.885515</td>\n",
       "      <td>23.687400</td>\n",
       "      <td>22.123740</td>\n",
       "      <td>21.044522</td>\n",
       "      <td>20.396653</td>\n",
       "      <td>19.921083</td>\n",
       "      <td>5326.000000</td>\n",
       "      <td>301.0</td>\n",
       "      <td>5.000000</td>\n",
       "      <td>241.000000</td>\n",
       "      <td>8.332586e+18</td>\n",
       "      <td>0.704154</td>\n",
       "      <td>7403.000000</td>\n",
       "      <td>56777.000000</td>\n",
       "      <td>645.000000</td>\n",
       "    </tr>\n",
       "    <tr>\n",
       "      <th>max</th>\n",
       "      <td>1.237681e+18</td>\n",
       "      <td>359.999810</td>\n",
       "      <td>83.000519</td>\n",
       "      <td>32.781390</td>\n",
       "      <td>31.602240</td>\n",
       "      <td>29.571860</td>\n",
       "      <td>32.141470</td>\n",
       "      <td>29.383740</td>\n",
       "      <td>8162.000000</td>\n",
       "      <td>301.0</td>\n",
       "      <td>6.000000</td>\n",
       "      <td>989.000000</td>\n",
       "      <td>1.412694e+19</td>\n",
       "      <td>7.011245</td>\n",
       "      <td>12547.000000</td>\n",
       "      <td>58932.000000</td>\n",
       "      <td>1000.000000</td>\n",
       "    </tr>\n",
       "  </tbody>\n",
       "</table>\n",
       "</div>"
      ],
      "text/plain": [
       "             obj_ID         alpha         delta             u             g  \\\n",
       "count  1.000000e+05  97987.000000  90750.000000  99965.000000  99785.000000   \n",
       "mean   1.237665e+18    177.572611     24.113338     21.980389     20.531585   \n",
       "std    8.438560e+12     96.504049     19.650086     31.774821     31.784318   \n",
       "min    1.237646e+18      0.005528    -18.785328  -9999.000000  -9999.000000   \n",
       "25%    1.237659e+18    127.471943      5.119385     20.352300     18.966220   \n",
       "50%    1.237663e+18    180.802203     23.574816     22.179130     21.099690   \n",
       "75%    1.237668e+18    233.889947     39.885515     23.687400     22.123740   \n",
       "max    1.237681e+18    359.999810     83.000519     32.781390     31.602240   \n",
       "\n",
       "                  r             i             z        run_ID  rerun_ID  \\\n",
       "count  98270.000000  99874.000000  99112.000000  99999.000000   99997.0   \n",
       "mean      19.645324     19.085179     18.668293   4481.333693     301.0   \n",
       "std        1.855572      1.757937     31.869522   1964.747757       0.0   \n",
       "min        9.822070      9.469903  -9999.000000    109.000000     301.0   \n",
       "25%       18.133965     17.732608     17.461787   3187.000000     301.0   \n",
       "50%       20.125750     19.405385     19.004650   4188.000000     301.0   \n",
       "75%       21.044522     20.396653     19.921083   5326.000000     301.0   \n",
       "max       29.571860     32.141470     29.383740   8162.000000     301.0   \n",
       "\n",
       "            cam_col      field_ID   spec_obj_ID      redshift         plate  \\\n",
       "count  74526.000000  99992.000000  9.999800e+04  99984.000000  87244.000000   \n",
       "mean       3.512385    186.120590  5.783944e+18      0.576674   5137.282633   \n",
       "std        1.587151    149.001349  3.324020e+18      0.730737   2950.877918   \n",
       "min        1.000000     11.000000  2.995191e+17     -0.009971    266.000000   \n",
       "25%        2.000000     82.000000  2.844139e+18      0.054503   2527.000000   \n",
       "50%        4.000000    146.000000  5.614897e+18      0.424173   4983.000000   \n",
       "75%        5.000000    241.000000  8.332586e+18      0.704154   7403.000000   \n",
       "max        6.000000    989.000000  1.412694e+19      7.011245  12547.000000   \n",
       "\n",
       "                 MJD      fiber_ID  \n",
       "count  100000.000000  99995.000000  \n",
       "mean    55588.647500    449.308375  \n",
       "std      1808.484233    272.503122  \n",
       "min     51608.000000      1.000000  \n",
       "25%     54234.000000    221.000000  \n",
       "50%     55868.500000    433.000000  \n",
       "75%     56777.000000    645.000000  \n",
       "max     58932.000000   1000.000000  "
      ]
     },
     "execution_count": 13,
     "metadata": {},
     "output_type": "execute_result"
    }
   ],
   "source": [
    "df.describe()"
   ]
  },
  {
   "cell_type": "code",
   "execution_count": 16,
   "id": "e9c6f371",
   "metadata": {},
   "outputs": [
    {
     "data": {
      "text/html": [
       "<pre style=\"white-space:pre;overflow-x:auto;line-height:normal;font-family:Menlo,'DejaVu Sans Mono',consolas,'Courier New',monospace\">╭──────────────────────────────────────────────── skimpy summary ─────────────────────────────────────────────────╮\n",
       "│ <span style=\"font-style: italic\">         Data Summary         </span> <span style=\"font-style: italic\">      Data Types       </span>                                                          │\n",
       "│ ┏━━━━━━━━━━━━━━━━━━━┳━━━━━━━━┓ ┏━━━━━━━━━━━━━┳━━━━━━━┓                                                          │\n",
       "│ ┃<span style=\"color: #008080; text-decoration-color: #008080; font-weight: bold\"> Dataframe         </span>┃<span style=\"color: #008080; text-decoration-color: #008080; font-weight: bold\"> Values </span>┃ ┃<span style=\"color: #008080; text-decoration-color: #008080; font-weight: bold\"> Column Type </span>┃<span style=\"color: #008080; text-decoration-color: #008080; font-weight: bold\"> Count </span>┃                                                          │\n",
       "│ ┡━━━━━━━━━━━━━━━━━━━╇━━━━━━━━┩ ┡━━━━━━━━━━━━━╇━━━━━━━┩                                                          │\n",
       "│ │ Number of rows    │ 100000 │ │ float64     │ 16    │                                                          │\n",
       "│ │ Number of columns │ 18     │ │ string      │ 1     │                                                          │\n",
       "│ └───────────────────┴────────┘ │ int64       │ 1     │                                                          │\n",
       "│                                └─────────────┴───────┘                                                          │\n",
       "│ <span style=\"font-style: italic\">                                                    number                                                    </span>  │\n",
       "│ ┏━━━━━━━━━┳━━━━━━━┳━━━━━━━━┳━━━━━━━━━┳━━━━━━━━━┳━━━━━━━━━━┳━━━━━━━━━┳━━━━━━━━━━┳━━━━━━━━━┳━━━━━━━━━━┳━━━━━━━━┓  │\n",
       "│ ┃<span style=\"font-weight: bold\"> column  </span>┃<span style=\"font-weight: bold\"> NA    </span>┃<span style=\"font-weight: bold\"> NA %   </span>┃<span style=\"font-weight: bold\"> mean    </span>┃<span style=\"font-weight: bold\"> sd      </span>┃<span style=\"font-weight: bold\"> p0       </span>┃<span style=\"font-weight: bold\"> p25     </span>┃<span style=\"font-weight: bold\"> p50      </span>┃<span style=\"font-weight: bold\"> p75     </span>┃<span style=\"font-weight: bold\"> p100     </span>┃<span style=\"font-weight: bold\"> hist   </span>┃  │\n",
       "│ ┡━━━━━━━━━╇━━━━━━━╇━━━━━━━━╇━━━━━━━━━╇━━━━━━━━━╇━━━━━━━━━━╇━━━━━━━━━╇━━━━━━━━━━╇━━━━━━━━━╇━━━━━━━━━━╇━━━━━━━━┩  │\n",
       "│ │ <span style=\"color: #af87ff; text-decoration-color: #af87ff\">obj_ID </span> │ <span style=\"color: #008080; text-decoration-color: #008080\">    0</span> │ <span style=\"color: #008080; text-decoration-color: #008080\">     0</span> │ <span style=\"color: #008080; text-decoration-color: #008080\">1.238e+</span> │ <span style=\"color: #008080; text-decoration-color: #008080\">8439000</span> │ <span style=\"color: #008080; text-decoration-color: #008080\">1.238e+1</span> │ <span style=\"color: #008080; text-decoration-color: #008080\">1.238e+</span> │ <span style=\"color: #008080; text-decoration-color: #008080\">1.238e+1</span> │ <span style=\"color: #008080; text-decoration-color: #008080\">1.238e+</span> │ <span style=\"color: #008080; text-decoration-color: #008080\">1.238e+1</span> │ <span style=\"color: #008000; text-decoration-color: #008000\">▁▃▇▇▂▅</span> │  │\n",
       "│ │         │       │        │ <span style=\"color: #008080; text-decoration-color: #008080\">     18</span> │ <span style=\"color: #008080; text-decoration-color: #008080\"> 000000</span> │ <span style=\"color: #008080; text-decoration-color: #008080\">       8</span> │ <span style=\"color: #008080; text-decoration-color: #008080\">     18</span> │ <span style=\"color: #008080; text-decoration-color: #008080\">       8</span> │ <span style=\"color: #008080; text-decoration-color: #008080\">     18</span> │ <span style=\"color: #008080; text-decoration-color: #008080\">       8</span> │        │  │\n",
       "│ │ <span style=\"color: #af87ff; text-decoration-color: #af87ff\">alpha  </span> │ <span style=\"color: #008080; text-decoration-color: #008080\"> 2013</span> │ <span style=\"color: #008080; text-decoration-color: #008080\"> 2.013</span> │ <span style=\"color: #008080; text-decoration-color: #008080\">  177.6</span> │ <span style=\"color: #008080; text-decoration-color: #008080\">   96.5</span> │ <span style=\"color: #008080; text-decoration-color: #008080\">0.005528</span> │ <span style=\"color: #008080; text-decoration-color: #008080\">  127.5</span> │ <span style=\"color: #008080; text-decoration-color: #008080\">   180.8</span> │ <span style=\"color: #008080; text-decoration-color: #008080\">  233.9</span> │ <span style=\"color: #008080; text-decoration-color: #008080\">     360</span> │ <span style=\"color: #008000; text-decoration-color: #008000\">▅▁▇▇▂▃</span> │  │\n",
       "│ │ <span style=\"color: #af87ff; text-decoration-color: #af87ff\">delta  </span> │ <span style=\"color: #008080; text-decoration-color: #008080\"> 9250</span> │ <span style=\"color: #008080; text-decoration-color: #008080\">  9.25</span> │ <span style=\"color: #008080; text-decoration-color: #008080\">  24.11</span> │ <span style=\"color: #008080; text-decoration-color: #008080\">  19.65</span> │ <span style=\"color: #008080; text-decoration-color: #008080\">  -18.79</span> │ <span style=\"color: #008080; text-decoration-color: #008080\">  5.119</span> │ <span style=\"color: #008080; text-decoration-color: #008080\">   23.57</span> │ <span style=\"color: #008080; text-decoration-color: #008080\">  39.89</span> │ <span style=\"color: #008080; text-decoration-color: #008080\">      83</span> │ <span style=\"color: #008000; text-decoration-color: #008000\">▂▇▇▆▃ </span> │  │\n",
       "│ │ <span style=\"color: #af87ff; text-decoration-color: #af87ff\">u      </span> │ <span style=\"color: #008080; text-decoration-color: #008080\">   35</span> │ <span style=\"color: #008080; text-decoration-color: #008080\"> 0.035</span> │ <span style=\"color: #008080; text-decoration-color: #008080\">  21.98</span> │ <span style=\"color: #008080; text-decoration-color: #008080\">  31.77</span> │ <span style=\"color: #008080; text-decoration-color: #008080\">   -9999</span> │ <span style=\"color: #008080; text-decoration-color: #008080\">  20.35</span> │ <span style=\"color: #008080; text-decoration-color: #008080\">   22.18</span> │ <span style=\"color: #008080; text-decoration-color: #008080\">  23.69</span> │ <span style=\"color: #008080; text-decoration-color: #008080\">   32.78</span> │ <span style=\"color: #008000; text-decoration-color: #008000\">     ▇</span> │  │\n",
       "│ │ <span style=\"color: #af87ff; text-decoration-color: #af87ff\">g      </span> │ <span style=\"color: #008080; text-decoration-color: #008080\">  215</span> │ <span style=\"color: #008080; text-decoration-color: #008080\"> 0.215</span> │ <span style=\"color: #008080; text-decoration-color: #008080\">  20.53</span> │ <span style=\"color: #008080; text-decoration-color: #008080\">  31.78</span> │ <span style=\"color: #008080; text-decoration-color: #008080\">   -9999</span> │ <span style=\"color: #008080; text-decoration-color: #008080\">  18.97</span> │ <span style=\"color: #008080; text-decoration-color: #008080\">    21.1</span> │ <span style=\"color: #008080; text-decoration-color: #008080\">  22.12</span> │ <span style=\"color: #008080; text-decoration-color: #008080\">    31.6</span> │ <span style=\"color: #008000; text-decoration-color: #008000\">     ▇</span> │  │\n",
       "│ │ <span style=\"color: #af87ff; text-decoration-color: #af87ff\">r      </span> │ <span style=\"color: #008080; text-decoration-color: #008080\"> 1730</span> │ <span style=\"color: #008080; text-decoration-color: #008080\">  1.73</span> │ <span style=\"color: #008080; text-decoration-color: #008080\">  19.65</span> │ <span style=\"color: #008080; text-decoration-color: #008080\">  1.856</span> │ <span style=\"color: #008080; text-decoration-color: #008080\">   9.822</span> │ <span style=\"color: #008080; text-decoration-color: #008080\">  18.13</span> │ <span style=\"color: #008080; text-decoration-color: #008080\">   20.13</span> │ <span style=\"color: #008080; text-decoration-color: #008080\">  21.04</span> │ <span style=\"color: #008080; text-decoration-color: #008080\">   29.57</span> │ <span style=\"color: #008000; text-decoration-color: #008000\">  ▁▅▇ </span> │  │\n",
       "│ │ <span style=\"color: #af87ff; text-decoration-color: #af87ff\">i      </span> │ <span style=\"color: #008080; text-decoration-color: #008080\">  126</span> │ <span style=\"color: #008080; text-decoration-color: #008080\"> 0.126</span> │ <span style=\"color: #008080; text-decoration-color: #008080\">  19.09</span> │ <span style=\"color: #008080; text-decoration-color: #008080\">  1.758</span> │ <span style=\"color: #008080; text-decoration-color: #008080\">    9.47</span> │ <span style=\"color: #008080; text-decoration-color: #008080\">  17.73</span> │ <span style=\"color: #008080; text-decoration-color: #008080\">   19.41</span> │ <span style=\"color: #008080; text-decoration-color: #008080\">   20.4</span> │ <span style=\"color: #008080; text-decoration-color: #008080\">   32.14</span> │ <span style=\"color: #008000; text-decoration-color: #008000\">  ▂▇▂ </span> │  │\n",
       "│ │ <span style=\"color: #af87ff; text-decoration-color: #af87ff\">z      </span> │ <span style=\"color: #008080; text-decoration-color: #008080\">  888</span> │ <span style=\"color: #008080; text-decoration-color: #008080\"> 0.888</span> │ <span style=\"color: #008080; text-decoration-color: #008080\">  18.67</span> │ <span style=\"color: #008080; text-decoration-color: #008080\">  31.87</span> │ <span style=\"color: #008080; text-decoration-color: #008080\">   -9999</span> │ <span style=\"color: #008080; text-decoration-color: #008080\">  17.46</span> │ <span style=\"color: #008080; text-decoration-color: #008080\">      19</span> │ <span style=\"color: #008080; text-decoration-color: #008080\">  19.92</span> │ <span style=\"color: #008080; text-decoration-color: #008080\">   29.38</span> │ <span style=\"color: #008000; text-decoration-color: #008000\">     ▇</span> │  │\n",
       "│ │ <span style=\"color: #af87ff; text-decoration-color: #af87ff\">run_ID </span> │ <span style=\"color: #008080; text-decoration-color: #008080\">    1</span> │ <span style=\"color: #008080; text-decoration-color: #008080\"> 0.001</span> │ <span style=\"color: #008080; text-decoration-color: #008080\">   4481</span> │ <span style=\"color: #008080; text-decoration-color: #008080\">   1965</span> │ <span style=\"color: #008080; text-decoration-color: #008080\">     109</span> │ <span style=\"color: #008080; text-decoration-color: #008080\">   3187</span> │ <span style=\"color: #008080; text-decoration-color: #008080\">    4188</span> │ <span style=\"color: #008080; text-decoration-color: #008080\">   5326</span> │ <span style=\"color: #008080; text-decoration-color: #008080\">    8162</span> │ <span style=\"color: #008000; text-decoration-color: #008000\">▁▃▇▇▂▅</span> │  │\n",
       "│ │ <span style=\"color: #af87ff; text-decoration-color: #af87ff\">rerun_I</span> │ <span style=\"color: #008080; text-decoration-color: #008080\">    3</span> │ <span style=\"color: #008080; text-decoration-color: #008080\"> 0.003</span> │ <span style=\"color: #008080; text-decoration-color: #008080\">    301</span> │ <span style=\"color: #008080; text-decoration-color: #008080\">      0</span> │ <span style=\"color: #008080; text-decoration-color: #008080\">     301</span> │ <span style=\"color: #008080; text-decoration-color: #008080\">    301</span> │ <span style=\"color: #008080; text-decoration-color: #008080\">     301</span> │ <span style=\"color: #008080; text-decoration-color: #008080\">    301</span> │ <span style=\"color: #008080; text-decoration-color: #008080\">     301</span> │ <span style=\"color: #008000; text-decoration-color: #008000\">    ▇ </span> │  │\n",
       "│ │ <span style=\"color: #af87ff; text-decoration-color: #af87ff\">D      </span> │       │        │         │         │          │         │          │         │          │        │  │\n",
       "│ │ <span style=\"color: #af87ff; text-decoration-color: #af87ff\">cam_col</span> │ <span style=\"color: #008080; text-decoration-color: #008080\">25474</span> │ <span style=\"color: #008080; text-decoration-color: #008080\">25.474</span> │ <span style=\"color: #008080; text-decoration-color: #008080\">  3.512</span> │ <span style=\"color: #008080; text-decoration-color: #008080\">  1.587</span> │ <span style=\"color: #008080; text-decoration-color: #008080\">       1</span> │ <span style=\"color: #008080; text-decoration-color: #008080\">      2</span> │ <span style=\"color: #008080; text-decoration-color: #008080\">       4</span> │ <span style=\"color: #008080; text-decoration-color: #008080\">      5</span> │ <span style=\"color: #008080; text-decoration-color: #008080\">       6</span> │ <span style=\"color: #008000; text-decoration-color: #008000\">▅▇▇▇▇▅</span> │  │\n",
       "│ │ <span style=\"color: #af87ff; text-decoration-color: #af87ff\">field_I</span> │ <span style=\"color: #008080; text-decoration-color: #008080\">    8</span> │ <span style=\"color: #008080; text-decoration-color: #008080\"> 0.008</span> │ <span style=\"color: #008080; text-decoration-color: #008080\">  186.1</span> │ <span style=\"color: #008080; text-decoration-color: #008080\">    149</span> │ <span style=\"color: #008080; text-decoration-color: #008080\">      11</span> │ <span style=\"color: #008080; text-decoration-color: #008080\">     82</span> │ <span style=\"color: #008080; text-decoration-color: #008080\">     146</span> │ <span style=\"color: #008080; text-decoration-color: #008080\">    241</span> │ <span style=\"color: #008080; text-decoration-color: #008080\">     989</span> │ <span style=\"color: #008000; text-decoration-color: #008000\"> ▇▃▁  </span> │  │\n",
       "│ │ <span style=\"color: #af87ff; text-decoration-color: #af87ff\">D      </span> │       │        │         │         │          │         │          │         │          │        │  │\n",
       "│ │ <span style=\"color: #af87ff; text-decoration-color: #af87ff\">spec_ob</span> │ <span style=\"color: #008080; text-decoration-color: #008080\">    2</span> │ <span style=\"color: #008080; text-decoration-color: #008080\"> 0.002</span> │ <span style=\"color: #008080; text-decoration-color: #008080\">5.784e+</span> │ <span style=\"color: #008080; text-decoration-color: #008080\">3.324e+</span> │ <span style=\"color: #008080; text-decoration-color: #008080\">2.995e+1</span> │ <span style=\"color: #008080; text-decoration-color: #008080\">2.844e+</span> │ <span style=\"color: #008080; text-decoration-color: #008080\">5.615e+1</span> │ <span style=\"color: #008080; text-decoration-color: #008080\">8.333e+</span> │ <span style=\"color: #008080; text-decoration-color: #008080\">1.413e+1</span> │ <span style=\"color: #008000; text-decoration-color: #008000\">▇▇▇▇▃▂</span> │  │\n",
       "│ │ <span style=\"color: #af87ff; text-decoration-color: #af87ff\">j_ID   </span> │       │        │ <span style=\"color: #008080; text-decoration-color: #008080\">     18</span> │ <span style=\"color: #008080; text-decoration-color: #008080\">     18</span> │ <span style=\"color: #008080; text-decoration-color: #008080\">       7</span> │ <span style=\"color: #008080; text-decoration-color: #008080\">     18</span> │ <span style=\"color: #008080; text-decoration-color: #008080\">       8</span> │ <span style=\"color: #008080; text-decoration-color: #008080\">     18</span> │ <span style=\"color: #008080; text-decoration-color: #008080\">       9</span> │        │  │\n",
       "│ │ <span style=\"color: #af87ff; text-decoration-color: #af87ff\">redshif</span> │ <span style=\"color: #008080; text-decoration-color: #008080\">   16</span> │ <span style=\"color: #008080; text-decoration-color: #008080\"> 0.016</span> │ <span style=\"color: #008080; text-decoration-color: #008080\"> 0.5767</span> │ <span style=\"color: #008080; text-decoration-color: #008080\"> 0.7307</span> │ <span style=\"color: #008080; text-decoration-color: #008080\">-0.00997</span> │ <span style=\"color: #008080; text-decoration-color: #008080\"> 0.0545</span> │ <span style=\"color: #008080; text-decoration-color: #008080\">  0.4242</span> │ <span style=\"color: #008080; text-decoration-color: #008080\"> 0.7042</span> │ <span style=\"color: #008080; text-decoration-color: #008080\">   7.011</span> │ <span style=\"color: #008000; text-decoration-color: #008000\">  ▇▁  </span> │  │\n",
       "│ │ <span style=\"color: #af87ff; text-decoration-color: #af87ff\">t      </span> │       │        │         │         │ <span style=\"color: #008080; text-decoration-color: #008080\">       1</span> │         │          │         │          │        │  │\n",
       "│ │ <span style=\"color: #af87ff; text-decoration-color: #af87ff\">plate  </span> │ <span style=\"color: #008080; text-decoration-color: #008080\">12756</span> │ <span style=\"color: #008080; text-decoration-color: #008080\">12.756</span> │ <span style=\"color: #008080; text-decoration-color: #008080\">   5137</span> │ <span style=\"color: #008080; text-decoration-color: #008080\">   2951</span> │ <span style=\"color: #008080; text-decoration-color: #008080\">     266</span> │ <span style=\"color: #008080; text-decoration-color: #008080\">   2527</span> │ <span style=\"color: #008080; text-decoration-color: #008080\">    4983</span> │ <span style=\"color: #008080; text-decoration-color: #008080\">   7403</span> │ <span style=\"color: #008080; text-decoration-color: #008080\">   12550</span> │ <span style=\"color: #008000; text-decoration-color: #008000\">▇▇▇▇▃▂</span> │  │\n",
       "│ │ <span style=\"color: #af87ff; text-decoration-color: #af87ff\">MJD    </span> │ <span style=\"color: #008080; text-decoration-color: #008080\">    0</span> │ <span style=\"color: #008080; text-decoration-color: #008080\">     0</span> │ <span style=\"color: #008080; text-decoration-color: #008080\">  55590</span> │ <span style=\"color: #008080; text-decoration-color: #008080\">   1808</span> │ <span style=\"color: #008080; text-decoration-color: #008080\">   51610</span> │ <span style=\"color: #008080; text-decoration-color: #008080\">  54230</span> │ <span style=\"color: #008080; text-decoration-color: #008080\">   55870</span> │ <span style=\"color: #008080; text-decoration-color: #008080\">  56780</span> │ <span style=\"color: #008080; text-decoration-color: #008080\">   58930</span> │ <span style=\"color: #008000; text-decoration-color: #008000\">▃▃▃▇▃▃</span> │  │\n",
       "│ │ <span style=\"color: #af87ff; text-decoration-color: #af87ff\">fiber_I</span> │ <span style=\"color: #008080; text-decoration-color: #008080\">    5</span> │ <span style=\"color: #008080; text-decoration-color: #008080\"> 0.005</span> │ <span style=\"color: #008080; text-decoration-color: #008080\">  449.3</span> │ <span style=\"color: #008080; text-decoration-color: #008080\">  272.5</span> │ <span style=\"color: #008080; text-decoration-color: #008080\">       1</span> │ <span style=\"color: #008080; text-decoration-color: #008080\">    221</span> │ <span style=\"color: #008080; text-decoration-color: #008080\">     433</span> │ <span style=\"color: #008080; text-decoration-color: #008080\">    645</span> │ <span style=\"color: #008080; text-decoration-color: #008080\">    1000</span> │ <span style=\"color: #008000; text-decoration-color: #008000\">▇▇▇▇▅▅</span> │  │\n",
       "│ │ <span style=\"color: #af87ff; text-decoration-color: #af87ff\">D      </span> │       │        │         │         │          │         │          │         │          │        │  │\n",
       "│ └─────────┴───────┴────────┴─────────┴─────────┴──────────┴─────────┴──────────┴─────────┴──────────┴────────┘  │\n",
       "│ <span style=\"font-style: italic\">                                                    string                                                    </span>  │\n",
       "│ ┏━━━━━━━━━┳━━━━━┳━━━━━━━━┳━━━━━━━━━━━┳━━━━━━━━━┳━━━━━━━━┳━━━━━━┳━━━━━━━━━━━━━━━┳━━━━━━━━━━━━━━━┳━━━━━━━━━━━━━┓  │\n",
       "│ ┃<span style=\"font-weight: bold\"> column  </span>┃<span style=\"font-weight: bold\"> NA  </span>┃<span style=\"font-weight: bold\"> NA %   </span>┃<span style=\"font-weight: bold\"> shortest  </span>┃<span style=\"font-weight: bold\"> longest </span>┃<span style=\"font-weight: bold\"> min    </span>┃<span style=\"font-weight: bold\"> max  </span>┃<span style=\"font-weight: bold\"> chars per row </span>┃<span style=\"font-weight: bold\"> words per row </span>┃<span style=\"font-weight: bold\"> total words </span>┃  │\n",
       "│ ┡━━━━━━━━━╇━━━━━╇━━━━━━━━╇━━━━━━━━━━━╇━━━━━━━━━╇━━━━━━━━╇━━━━━━╇━━━━━━━━━━━━━━━╇━━━━━━━━━━━━━━━╇━━━━━━━━━━━━━┩  │\n",
       "│ │ <span style=\"color: #af87ff; text-decoration-color: #af87ff\">class  </span> │ <span style=\"color: #008080; text-decoration-color: #008080\">  4</span> │ <span style=\"color: #008080; text-decoration-color: #008080\"> 0.004</span> │ <span style=\"color: #af87ff; text-decoration-color: #af87ff\">QSO      </span> │ <span style=\"color: #af87ff; text-decoration-color: #af87ff\">GALAXY </span> │ <span style=\"color: #af87ff; text-decoration-color: #af87ff\">GALAXY</span> │ <span style=\"color: #af87ff; text-decoration-color: #af87ff\">STAR</span> │ <span style=\"color: #008080; text-decoration-color: #008080\">            5</span> │ <span style=\"color: #008080; text-decoration-color: #008080\">            1</span> │ <span style=\"color: #008080; text-decoration-color: #008080\">      99996</span> │  │\n",
       "│ └─────────┴─────┴────────┴───────────┴─────────┴────────┴──────┴───────────────┴───────────────┴─────────────┘  │\n",
       "╰────────────────────────────────────────────────────── End ──────────────────────────────────────────────────────╯\n",
       "</pre>\n"
      ],
      "text/plain": [
       "╭──────────────────────────────────────────────── skimpy summary ─────────────────────────────────────────────────╮\n",
       "│ \u001b[3m         Data Summary         \u001b[0m \u001b[3m      Data Types       \u001b[0m                                                          │\n",
       "│ ┏━━━━━━━━━━━━━━━━━━━┳━━━━━━━━┓ ┏━━━━━━━━━━━━━┳━━━━━━━┓                                                          │\n",
       "│ ┃\u001b[1;36m \u001b[0m\u001b[1;36mDataframe        \u001b[0m\u001b[1;36m \u001b[0m┃\u001b[1;36m \u001b[0m\u001b[1;36mValues\u001b[0m\u001b[1;36m \u001b[0m┃ ┃\u001b[1;36m \u001b[0m\u001b[1;36mColumn Type\u001b[0m\u001b[1;36m \u001b[0m┃\u001b[1;36m \u001b[0m\u001b[1;36mCount\u001b[0m\u001b[1;36m \u001b[0m┃                                                          │\n",
       "│ ┡━━━━━━━━━━━━━━━━━━━╇━━━━━━━━┩ ┡━━━━━━━━━━━━━╇━━━━━━━┩                                                          │\n",
       "│ │ Number of rows    │ 100000 │ │ float64     │ 16    │                                                          │\n",
       "│ │ Number of columns │ 18     │ │ string      │ 1     │                                                          │\n",
       "│ └───────────────────┴────────┘ │ int64       │ 1     │                                                          │\n",
       "│                                └─────────────┴───────┘                                                          │\n",
       "│ \u001b[3m                                                    number                                                    \u001b[0m  │\n",
       "│ ┏━━━━━━━━━┳━━━━━━━┳━━━━━━━━┳━━━━━━━━━┳━━━━━━━━━┳━━━━━━━━━━┳━━━━━━━━━┳━━━━━━━━━━┳━━━━━━━━━┳━━━━━━━━━━┳━━━━━━━━┓  │\n",
       "│ ┃\u001b[1m \u001b[0m\u001b[1mcolumn \u001b[0m\u001b[1m \u001b[0m┃\u001b[1m \u001b[0m\u001b[1mNA   \u001b[0m\u001b[1m \u001b[0m┃\u001b[1m \u001b[0m\u001b[1mNA %  \u001b[0m\u001b[1m \u001b[0m┃\u001b[1m \u001b[0m\u001b[1mmean   \u001b[0m\u001b[1m \u001b[0m┃\u001b[1m \u001b[0m\u001b[1msd     \u001b[0m\u001b[1m \u001b[0m┃\u001b[1m \u001b[0m\u001b[1mp0      \u001b[0m\u001b[1m \u001b[0m┃\u001b[1m \u001b[0m\u001b[1mp25    \u001b[0m\u001b[1m \u001b[0m┃\u001b[1m \u001b[0m\u001b[1mp50     \u001b[0m\u001b[1m \u001b[0m┃\u001b[1m \u001b[0m\u001b[1mp75    \u001b[0m\u001b[1m \u001b[0m┃\u001b[1m \u001b[0m\u001b[1mp100    \u001b[0m\u001b[1m \u001b[0m┃\u001b[1m \u001b[0m\u001b[1mhist  \u001b[0m\u001b[1m \u001b[0m┃  │\n",
       "│ ┡━━━━━━━━━╇━━━━━━━╇━━━━━━━━╇━━━━━━━━━╇━━━━━━━━━╇━━━━━━━━━━╇━━━━━━━━━╇━━━━━━━━━━╇━━━━━━━━━╇━━━━━━━━━━╇━━━━━━━━┩  │\n",
       "│ │ \u001b[38;5;141mobj_ID \u001b[0m │ \u001b[36m    0\u001b[0m │ \u001b[36m     0\u001b[0m │ \u001b[36m1.238e+\u001b[0m │ \u001b[36m8439000\u001b[0m │ \u001b[36m1.238e+1\u001b[0m │ \u001b[36m1.238e+\u001b[0m │ \u001b[36m1.238e+1\u001b[0m │ \u001b[36m1.238e+\u001b[0m │ \u001b[36m1.238e+1\u001b[0m │ \u001b[32m▁▃▇▇▂▅\u001b[0m │  │\n",
       "│ │         │       │        │ \u001b[36m     18\u001b[0m │ \u001b[36m 000000\u001b[0m │ \u001b[36m       8\u001b[0m │ \u001b[36m     18\u001b[0m │ \u001b[36m       8\u001b[0m │ \u001b[36m     18\u001b[0m │ \u001b[36m       8\u001b[0m │        │  │\n",
       "│ │ \u001b[38;5;141malpha  \u001b[0m │ \u001b[36m 2013\u001b[0m │ \u001b[36m 2.013\u001b[0m │ \u001b[36m  177.6\u001b[0m │ \u001b[36m   96.5\u001b[0m │ \u001b[36m0.005528\u001b[0m │ \u001b[36m  127.5\u001b[0m │ \u001b[36m   180.8\u001b[0m │ \u001b[36m  233.9\u001b[0m │ \u001b[36m     360\u001b[0m │ \u001b[32m▅▁▇▇▂▃\u001b[0m │  │\n",
       "│ │ \u001b[38;5;141mdelta  \u001b[0m │ \u001b[36m 9250\u001b[0m │ \u001b[36m  9.25\u001b[0m │ \u001b[36m  24.11\u001b[0m │ \u001b[36m  19.65\u001b[0m │ \u001b[36m  -18.79\u001b[0m │ \u001b[36m  5.119\u001b[0m │ \u001b[36m   23.57\u001b[0m │ \u001b[36m  39.89\u001b[0m │ \u001b[36m      83\u001b[0m │ \u001b[32m▂▇▇▆▃ \u001b[0m │  │\n",
       "│ │ \u001b[38;5;141mu      \u001b[0m │ \u001b[36m   35\u001b[0m │ \u001b[36m 0.035\u001b[0m │ \u001b[36m  21.98\u001b[0m │ \u001b[36m  31.77\u001b[0m │ \u001b[36m   -9999\u001b[0m │ \u001b[36m  20.35\u001b[0m │ \u001b[36m   22.18\u001b[0m │ \u001b[36m  23.69\u001b[0m │ \u001b[36m   32.78\u001b[0m │ \u001b[32m     ▇\u001b[0m │  │\n",
       "│ │ \u001b[38;5;141mg      \u001b[0m │ \u001b[36m  215\u001b[0m │ \u001b[36m 0.215\u001b[0m │ \u001b[36m  20.53\u001b[0m │ \u001b[36m  31.78\u001b[0m │ \u001b[36m   -9999\u001b[0m │ \u001b[36m  18.97\u001b[0m │ \u001b[36m    21.1\u001b[0m │ \u001b[36m  22.12\u001b[0m │ \u001b[36m    31.6\u001b[0m │ \u001b[32m     ▇\u001b[0m │  │\n",
       "│ │ \u001b[38;5;141mr      \u001b[0m │ \u001b[36m 1730\u001b[0m │ \u001b[36m  1.73\u001b[0m │ \u001b[36m  19.65\u001b[0m │ \u001b[36m  1.856\u001b[0m │ \u001b[36m   9.822\u001b[0m │ \u001b[36m  18.13\u001b[0m │ \u001b[36m   20.13\u001b[0m │ \u001b[36m  21.04\u001b[0m │ \u001b[36m   29.57\u001b[0m │ \u001b[32m  ▁▅▇ \u001b[0m │  │\n",
       "│ │ \u001b[38;5;141mi      \u001b[0m │ \u001b[36m  126\u001b[0m │ \u001b[36m 0.126\u001b[0m │ \u001b[36m  19.09\u001b[0m │ \u001b[36m  1.758\u001b[0m │ \u001b[36m    9.47\u001b[0m │ \u001b[36m  17.73\u001b[0m │ \u001b[36m   19.41\u001b[0m │ \u001b[36m   20.4\u001b[0m │ \u001b[36m   32.14\u001b[0m │ \u001b[32m  ▂▇▂ \u001b[0m │  │\n",
       "│ │ \u001b[38;5;141mz      \u001b[0m │ \u001b[36m  888\u001b[0m │ \u001b[36m 0.888\u001b[0m │ \u001b[36m  18.67\u001b[0m │ \u001b[36m  31.87\u001b[0m │ \u001b[36m   -9999\u001b[0m │ \u001b[36m  17.46\u001b[0m │ \u001b[36m      19\u001b[0m │ \u001b[36m  19.92\u001b[0m │ \u001b[36m   29.38\u001b[0m │ \u001b[32m     ▇\u001b[0m │  │\n",
       "│ │ \u001b[38;5;141mrun_ID \u001b[0m │ \u001b[36m    1\u001b[0m │ \u001b[36m 0.001\u001b[0m │ \u001b[36m   4481\u001b[0m │ \u001b[36m   1965\u001b[0m │ \u001b[36m     109\u001b[0m │ \u001b[36m   3187\u001b[0m │ \u001b[36m    4188\u001b[0m │ \u001b[36m   5326\u001b[0m │ \u001b[36m    8162\u001b[0m │ \u001b[32m▁▃▇▇▂▅\u001b[0m │  │\n",
       "│ │ \u001b[38;5;141mrerun_I\u001b[0m │ \u001b[36m    3\u001b[0m │ \u001b[36m 0.003\u001b[0m │ \u001b[36m    301\u001b[0m │ \u001b[36m      0\u001b[0m │ \u001b[36m     301\u001b[0m │ \u001b[36m    301\u001b[0m │ \u001b[36m     301\u001b[0m │ \u001b[36m    301\u001b[0m │ \u001b[36m     301\u001b[0m │ \u001b[32m    ▇ \u001b[0m │  │\n",
       "│ │ \u001b[38;5;141mD      \u001b[0m │       │        │         │         │          │         │          │         │          │        │  │\n",
       "│ │ \u001b[38;5;141mcam_col\u001b[0m │ \u001b[36m25474\u001b[0m │ \u001b[36m25.474\u001b[0m │ \u001b[36m  3.512\u001b[0m │ \u001b[36m  1.587\u001b[0m │ \u001b[36m       1\u001b[0m │ \u001b[36m      2\u001b[0m │ \u001b[36m       4\u001b[0m │ \u001b[36m      5\u001b[0m │ \u001b[36m       6\u001b[0m │ \u001b[32m▅▇▇▇▇▅\u001b[0m │  │\n",
       "│ │ \u001b[38;5;141mfield_I\u001b[0m │ \u001b[36m    8\u001b[0m │ \u001b[36m 0.008\u001b[0m │ \u001b[36m  186.1\u001b[0m │ \u001b[36m    149\u001b[0m │ \u001b[36m      11\u001b[0m │ \u001b[36m     82\u001b[0m │ \u001b[36m     146\u001b[0m │ \u001b[36m    241\u001b[0m │ \u001b[36m     989\u001b[0m │ \u001b[32m ▇▃▁  \u001b[0m │  │\n",
       "│ │ \u001b[38;5;141mD      \u001b[0m │       │        │         │         │          │         │          │         │          │        │  │\n",
       "│ │ \u001b[38;5;141mspec_ob\u001b[0m │ \u001b[36m    2\u001b[0m │ \u001b[36m 0.002\u001b[0m │ \u001b[36m5.784e+\u001b[0m │ \u001b[36m3.324e+\u001b[0m │ \u001b[36m2.995e+1\u001b[0m │ \u001b[36m2.844e+\u001b[0m │ \u001b[36m5.615e+1\u001b[0m │ \u001b[36m8.333e+\u001b[0m │ \u001b[36m1.413e+1\u001b[0m │ \u001b[32m▇▇▇▇▃▂\u001b[0m │  │\n",
       "│ │ \u001b[38;5;141mj_ID   \u001b[0m │       │        │ \u001b[36m     18\u001b[0m │ \u001b[36m     18\u001b[0m │ \u001b[36m       7\u001b[0m │ \u001b[36m     18\u001b[0m │ \u001b[36m       8\u001b[0m │ \u001b[36m     18\u001b[0m │ \u001b[36m       9\u001b[0m │        │  │\n",
       "│ │ \u001b[38;5;141mredshif\u001b[0m │ \u001b[36m   16\u001b[0m │ \u001b[36m 0.016\u001b[0m │ \u001b[36m 0.5767\u001b[0m │ \u001b[36m 0.7307\u001b[0m │ \u001b[36m-0.00997\u001b[0m │ \u001b[36m 0.0545\u001b[0m │ \u001b[36m  0.4242\u001b[0m │ \u001b[36m 0.7042\u001b[0m │ \u001b[36m   7.011\u001b[0m │ \u001b[32m  ▇▁  \u001b[0m │  │\n",
       "│ │ \u001b[38;5;141mt      \u001b[0m │       │        │         │         │ \u001b[36m       1\u001b[0m │         │          │         │          │        │  │\n",
       "│ │ \u001b[38;5;141mplate  \u001b[0m │ \u001b[36m12756\u001b[0m │ \u001b[36m12.756\u001b[0m │ \u001b[36m   5137\u001b[0m │ \u001b[36m   2951\u001b[0m │ \u001b[36m     266\u001b[0m │ \u001b[36m   2527\u001b[0m │ \u001b[36m    4983\u001b[0m │ \u001b[36m   7403\u001b[0m │ \u001b[36m   12550\u001b[0m │ \u001b[32m▇▇▇▇▃▂\u001b[0m │  │\n",
       "│ │ \u001b[38;5;141mMJD    \u001b[0m │ \u001b[36m    0\u001b[0m │ \u001b[36m     0\u001b[0m │ \u001b[36m  55590\u001b[0m │ \u001b[36m   1808\u001b[0m │ \u001b[36m   51610\u001b[0m │ \u001b[36m  54230\u001b[0m │ \u001b[36m   55870\u001b[0m │ \u001b[36m  56780\u001b[0m │ \u001b[36m   58930\u001b[0m │ \u001b[32m▃▃▃▇▃▃\u001b[0m │  │\n",
       "│ │ \u001b[38;5;141mfiber_I\u001b[0m │ \u001b[36m    5\u001b[0m │ \u001b[36m 0.005\u001b[0m │ \u001b[36m  449.3\u001b[0m │ \u001b[36m  272.5\u001b[0m │ \u001b[36m       1\u001b[0m │ \u001b[36m    221\u001b[0m │ \u001b[36m     433\u001b[0m │ \u001b[36m    645\u001b[0m │ \u001b[36m    1000\u001b[0m │ \u001b[32m▇▇▇▇▅▅\u001b[0m │  │\n",
       "│ │ \u001b[38;5;141mD      \u001b[0m │       │        │         │         │          │         │          │         │          │        │  │\n",
       "│ └─────────┴───────┴────────┴─────────┴─────────┴──────────┴─────────┴──────────┴─────────┴──────────┴────────┘  │\n",
       "│ \u001b[3m                                                    string                                                    \u001b[0m  │\n",
       "│ ┏━━━━━━━━━┳━━━━━┳━━━━━━━━┳━━━━━━━━━━━┳━━━━━━━━━┳━━━━━━━━┳━━━━━━┳━━━━━━━━━━━━━━━┳━━━━━━━━━━━━━━━┳━━━━━━━━━━━━━┓  │\n",
       "│ ┃\u001b[1m \u001b[0m\u001b[1mcolumn \u001b[0m\u001b[1m \u001b[0m┃\u001b[1m \u001b[0m\u001b[1mNA \u001b[0m\u001b[1m \u001b[0m┃\u001b[1m \u001b[0m\u001b[1mNA %  \u001b[0m\u001b[1m \u001b[0m┃\u001b[1m \u001b[0m\u001b[1mshortest \u001b[0m\u001b[1m \u001b[0m┃\u001b[1m \u001b[0m\u001b[1mlongest\u001b[0m\u001b[1m \u001b[0m┃\u001b[1m \u001b[0m\u001b[1mmin   \u001b[0m\u001b[1m \u001b[0m┃\u001b[1m \u001b[0m\u001b[1mmax \u001b[0m\u001b[1m \u001b[0m┃\u001b[1m \u001b[0m\u001b[1mchars per row\u001b[0m\u001b[1m \u001b[0m┃\u001b[1m \u001b[0m\u001b[1mwords per row\u001b[0m\u001b[1m \u001b[0m┃\u001b[1m \u001b[0m\u001b[1mtotal words\u001b[0m\u001b[1m \u001b[0m┃  │\n",
       "│ ┡━━━━━━━━━╇━━━━━╇━━━━━━━━╇━━━━━━━━━━━╇━━━━━━━━━╇━━━━━━━━╇━━━━━━╇━━━━━━━━━━━━━━━╇━━━━━━━━━━━━━━━╇━━━━━━━━━━━━━┩  │\n",
       "│ │ \u001b[38;5;141mclass  \u001b[0m │ \u001b[36m  4\u001b[0m │ \u001b[36m 0.004\u001b[0m │ \u001b[38;5;141mQSO      \u001b[0m │ \u001b[38;5;141mGALAXY \u001b[0m │ \u001b[38;5;141mGALAXY\u001b[0m │ \u001b[38;5;141mSTAR\u001b[0m │ \u001b[36m            5\u001b[0m │ \u001b[36m            1\u001b[0m │ \u001b[36m      99996\u001b[0m │  │\n",
       "│ └─────────┴─────┴────────┴───────────┴─────────┴────────┴──────┴───────────────┴───────────────┴─────────────┘  │\n",
       "╰────────────────────────────────────────────────────── End ──────────────────────────────────────────────────────╯\n"
      ]
     },
     "metadata": {},
     "output_type": "display_data"
    }
   ],
   "source": [
    "# Better Describe Method than pandas describe\n",
    "from skimpy import skim\n",
    "skim(df)"
   ]
  },
  {
   "cell_type": "code",
   "execution_count": 14,
   "id": "09a2e888",
   "metadata": {},
   "outputs": [
    {
     "data": {
      "application/vnd.microsoft.datawrangler.viewer.v0+json": {
       "columns": [
        {
         "name": "index",
         "rawType": "object",
         "type": "string"
        },
        {
         "name": "0",
         "rawType": "int64",
         "type": "integer"
        }
       ],
       "ref": "75d14a94-23ac-4346-bc2f-55f458ac1ad1",
       "rows": [
        [
         "obj_ID",
         "0"
        ],
        [
         "alpha",
         "2013"
        ],
        [
         "delta",
         "9250"
        ],
        [
         "u",
         "35"
        ],
        [
         "g",
         "215"
        ],
        [
         "r",
         "1730"
        ],
        [
         "i",
         "126"
        ],
        [
         "z",
         "888"
        ],
        [
         "run_ID",
         "1"
        ],
        [
         "rerun_ID",
         "3"
        ],
        [
         "cam_col",
         "25474"
        ],
        [
         "field_ID",
         "8"
        ],
        [
         "spec_obj_ID",
         "2"
        ],
        [
         "class",
         "4"
        ],
        [
         "redshift",
         "16"
        ],
        [
         "plate",
         "12756"
        ],
        [
         "MJD",
         "0"
        ],
        [
         "fiber_ID",
         "5"
        ]
       ],
       "shape": {
        "columns": 1,
        "rows": 18
       }
      },
      "text/plain": [
       "obj_ID             0\n",
       "alpha           2013\n",
       "delta           9250\n",
       "u                 35\n",
       "g                215\n",
       "r               1730\n",
       "i                126\n",
       "z                888\n",
       "run_ID             1\n",
       "rerun_ID           3\n",
       "cam_col        25474\n",
       "field_ID           8\n",
       "spec_obj_ID        2\n",
       "class              4\n",
       "redshift          16\n",
       "plate          12756\n",
       "MJD                0\n",
       "fiber_ID           5\n",
       "dtype: int64"
      ]
     },
     "execution_count": 14,
     "metadata": {},
     "output_type": "execute_result"
    }
   ],
   "source": [
    "df.isnull().sum()   "
   ]
  },
  {
   "cell_type": "code",
   "execution_count": null,
   "id": "c5e0e769",
   "metadata": {},
   "outputs": [
    {
     "data": {
      "application/vnd.microsoft.datawrangler.viewer.v0+json": {
       "columns": [
        {
         "name": "index",
         "rawType": "object",
         "type": "string"
        },
        {
         "name": "0",
         "rawType": "int64",
         "type": "integer"
        }
       ],
       "ref": "49917ac6-b1d6-4b92-ab30-0e80b3c7d4f2",
       "rows": [
        [
         "cam_col",
         "25474"
        ],
        [
         "plate",
         "12756"
        ],
        [
         "delta",
         "9250"
        ],
        [
         "alpha",
         "2013"
        ],
        [
         "r",
         "1730"
        ],
        [
         "z",
         "888"
        ],
        [
         "g",
         "215"
        ],
        [
         "i",
         "126"
        ],
        [
         "u",
         "35"
        ],
        [
         "redshift",
         "16"
        ],
        [
         "field_ID",
         "8"
        ],
        [
         "fiber_ID",
         "5"
        ],
        [
         "class",
         "4"
        ],
        [
         "rerun_ID",
         "3"
        ],
        [
         "spec_obj_ID",
         "2"
        ],
        [
         "run_ID",
         "1"
        ],
        [
         "obj_ID",
         "0"
        ],
        [
         "MJD",
         "0"
        ]
       ],
       "shape": {
        "columns": 1,
        "rows": 18
       }
      },
      "text/plain": [
       "cam_col        25474\n",
       "plate          12756\n",
       "delta           9250\n",
       "alpha           2013\n",
       "r               1730\n",
       "z                888\n",
       "g                215\n",
       "i                126\n",
       "u                 35\n",
       "redshift          16\n",
       "field_ID           8\n",
       "fiber_ID           5\n",
       "class              4\n",
       "rerun_ID           3\n",
       "spec_obj_ID        2\n",
       "run_ID             1\n",
       "obj_ID             0\n",
       "MJD                0\n",
       "dtype: int64"
      ]
     },
     "execution_count": 17,
     "metadata": {},
     "output_type": "execute_result"
    }
   ],
   "source": [
    "df.isna().sum().sort_values(ascending=False)\n",
    "# cam_col has 25474/100000 missing values - approx 25.5%"
   ]
  },
  {
   "cell_type": "code",
   "execution_count": 18,
   "id": "f709d60c",
   "metadata": {},
   "outputs": [
    {
     "data": {
      "image/png": "[encoded data removed]",
      "text/plain": [
       "<Figure size 1200x600 with 1 Axes>"
      ]
     },
     "metadata": {},
     "output_type": "display_data"
    }
   ],
   "source": [
    "plt.figure(figsize=(12, 6))\n",
    "sns.heatmap(df.isna(), cbar=False, cmap='viridis')\n",
    "plt.title('Missing Values Heatmap')\n",
    "plt.show()"
   ]
  },
  {
   "cell_type": "code",
   "execution_count": 19,
   "id": "4d35b761",
   "metadata": {},
   "outputs": [
    {
     "data": {
      "text/plain": [
       "['obj_ID',\n",
       " 'alpha',\n",
       " 'delta',\n",
       " 'u',\n",
       " 'g',\n",
       " 'r',\n",
       " 'i',\n",
       " 'z',\n",
       " 'run_ID',\n",
       " 'rerun_ID',\n",
       " 'cam_col',\n",
       " 'field_ID',\n",
       " 'spec_obj_ID',\n",
       " 'class',\n",
       " 'redshift',\n",
       " 'plate',\n",
       " 'MJD',\n",
       " 'fiber_ID']"
      ]
     },
     "execution_count": 19,
     "metadata": {},
     "output_type": "execute_result"
    }
   ],
   "source": [
    "# WHAT DOES ANY OF THE COLUMN MEAN BRO WTF????\n",
    "# Name of all the columns listed below\n",
    "df.columns.tolist()"
   ]
  },
  {
   "cell_type": "code",
   "execution_count": 23,
   "id": "13a65ff4",
   "metadata": {},
   "outputs": [
    {
     "data": {
      "text/plain": [
       "\"Here are the meanings of the columns you listed, based on common astronomical survey datasets (such as SDSS):\\n\\nobj_ID: Unique object identifier.\\nalpha: Right Ascension (RA) in degrees (celestial longitude).\\ndelta: Declination (Dec) in degrees (celestial latitude).\\nu, g, r, i, z: Magnitudes in the SDSS photometric bands (ultraviolet, green, red, near-infrared, and infrared).\\nrun_ID: Identifier for the imaging run.\\nrerun_ID: Identifier for the data processing rerun.\\ncam_col: Camera column (which CCD column was used).\\nfield_ID: Field number within the run.\\nspec_obj_ID: Unique identifier for the spectroscopic observation.\\nclass: Object class (e.g., STAR, GALAXY, QSO).\\nredshift: Redshift value (z), indicating how much the object's light has been stretched by the expansion of the universe.\\nplate: Spectroscopic plate number.\\nMJD: Modified Julian Date of the observation.\\nfiber_ID: Fiber number on the spectroscopic plate.\\n\\nThese columns are typical in astronomical datasets for classifying and analyzing celestial objects.\""
      ]
     },
     "execution_count": 23,
     "metadata": {},
     "output_type": "execute_result"
    }
   ],
   "source": [
    "'''Here are the meanings of the columns you listed, based on common astronomical survey datasets (such as SDSS):\n",
    "\n",
    "obj_ID: Unique object identifier.\n",
    "alpha: Right Ascension (RA) in degrees (celestial longitude).\n",
    "delta: Declination (Dec) in degrees (celestial latitude).\n",
    "u, g, r, i, z: Magnitudes in the SDSS photometric bands (ultraviolet, green, red, near-infrared, and infrared).\n",
    "run_ID: Identifier for the imaging run.\n",
    "rerun_ID: Identifier for the data processing rerun.\n",
    "cam_col: Camera column (which CCD column was used).\n",
    "field_ID: Field number within the run.\n",
    "spec_obj_ID: Unique identifier for the spectroscopic observation.\n",
    "class: Object class (e.g., STAR, GALAXY, QSO).\n",
    "redshift: Redshift value (z), indicating how much the object's light has been stretched by the expansion of the universe.\n",
    "plate: Spectroscopic plate number.\n",
    "MJD: Modified Julian Date of the observation.\n",
    "fiber_ID: Fiber number on the spectroscopic plate.\n",
    "\n",
    "These columns are typical in astronomical datasets for classifying and analyzing celestial objects.'''"
   ]
  },
  {
   "cell_type": "code",
   "execution_count": null,
   "id": "ec4f60ef",
   "metadata": {},
   "outputs": [],
   "source": []
  }
 ],
 "metadata": {
  "kernelspec": {
   "display_name": "base",
   "language": "python",
   "name": "python3"
  },
  "language_info": {
   "codemirror_mode": {
    "name": "ipython",
    "version": 3
   },
   "file_extension": ".py",
   "mimetype": "text/x-python",
   "name": "python",
   "nbconvert_exporter": "python",
   "pygments_lexer": "ipython3",
   "version": "3.13.5"
  }
 },
 "nbformat": 4,
 "nbformat_minor": 5
}
